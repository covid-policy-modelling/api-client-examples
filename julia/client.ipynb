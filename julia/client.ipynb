{
 "cells": [
  {
   "cell_type": "markdown",
   "id": "5241989c-451d-4661-a30d-1521aefd75d4",
   "metadata": {},
   "source": [
    "## Load libraries"
   ]
  },
  {
   "cell_type": "code",
   "execution_count": null,
   "id": "250920f1-3480-4aae-b530-6d466b3ac24f",
   "metadata": {},
   "outputs": [],
   "source": [
    "using HTTP\n",
    "using JSON\n",
    "using DataStructures"
   ]
  },
  {
   "cell_type": "markdown",
   "id": "9cb2faba-3c7f-401b-ad63-88ce6af6001d",
   "metadata": {},
   "source": [
    "## Set token/URL"
   ]
  },
  {
   "cell_type": "code",
   "execution_count": null,
   "id": "1538dba4-a72a-4213-b0cf-7e60a046f86b",
   "metadata": {},
   "outputs": [],
   "source": [
    "token = get(ENV, \"API_TOKEN\", \"\")\n",
    "@assert !isempty(token)\n",
    "url = get(ENV, \"API_BASE_URL\", \"https://covid-modelling-stg.epcc.ed.ac.uk\")"
   ]
  },
  {
   "cell_type": "code",
   "execution_count": null,
   "id": "676ed07e-7849-42b5-8402-814091115fa2",
   "metadata": {},
   "outputs": [],
   "source": [
    "model_slug = \"sir-ode-python\"\n",
    "headers = OrderedDict(\n",
    "    \"accept\"=>\"application/json; charset=utf-8\", \n",
    "    \"Content-Type\"=>\"application/json\", \n",
    "    \"Authorization\"=> \"Bearer \"*token\n",
    ")"
   ]
  },
  {
   "cell_type": "markdown",
   "id": "bcb34cf6-b412-44ce-81f1-1082d8bcf38b",
   "metadata": {},
   "source": [
    "## Input"
   ]
  },
  {
   "cell_type": "code",
   "execution_count": null,
   "id": "2d1621bf-f1e5-411b-8540-49d124734670",
   "metadata": {},
   "outputs": [],
   "source": [
    "inputJSON = OrderedDict(\n",
    "  \"p\" => [\n",
    "    0.5,\n",
    "    0.25\n",
    "  ],\n",
    "  \"u0\" => [\n",
    "    0.99,\n",
    "    0.01,\n",
    "    0\n",
    "  ],\n",
    "  \"tspan\" => [\n",
    "    0,\n",
    "    10000\n",
    "  ]\n",
    ")"
   ]
  },
  {
   "cell_type": "markdown",
   "id": "440d557c-a818-401a-80c5-a86f84b75944",
   "metadata": {},
   "source": [
    "## Post simulations"
   ]
  },
  {
   "cell_type": "code",
   "execution_count": null,
   "id": "c2f6de7a",
   "metadata": {},
   "outputs": [],
   "source": [
    "post_simulations_url = url * \"/api/simulations/model-runs/\" * model_slug"
   ]
  },
  {
   "cell_type": "code",
   "execution_count": null,
   "id": "04e3c71c-4dbe-43f4-b5c0-28e68354a1d9",
   "metadata": {},
   "outputs": [],
   "source": [
    "post_simulations_response = HTTP.post(post_simulations_url, headers, json(inputJSON))\n",
    "\n",
    "@assert HTTP.status(post_simulations_response) == 200\n",
    "\n",
    "post_simulations_content = JSON.parse(String(HTTP.body(post_simulations_response)))"
   ]
  },
  {
   "cell_type": "markdown",
   "id": "e77eb34c",
   "metadata": {},
   "source": [
    "We need the ID to construct other URLs later."
   ]
  },
  {
   "cell_type": "code",
   "execution_count": null,
   "id": "7b72b658",
   "metadata": {},
   "outputs": [],
   "source": [
    "simulation_id = string(post_simulations_content[\"id\"])"
   ]
  },
  {
   "cell_type": "markdown",
   "id": "cfc6c61b-e85e-49ef-a247-79a21a1fefb9",
   "metadata": {},
   "source": [
    "## Check simulations"
   ]
  },
  {
   "cell_type": "code",
   "execution_count": null,
   "id": "5159d2ee-6f3f-4365-b043-237c500624f0",
   "metadata": {},
   "outputs": [],
   "source": [
    "check_simulations_url = url * \"/api/simulations/\" * simulation_id * \"/model-runs/\" * model_slug"
   ]
  },
  {
   "cell_type": "code",
   "execution_count": null,
   "id": "ed39fd11-a306-4bb4-8e54-f5920074229b",
   "metadata": {},
   "outputs": [],
   "source": [
    "check_simulations_response = HTTP.get(check_simulations_url, headers)\n",
    "\n",
    "@assert HTTP.status(check_simulations_response) == 200\n",
    "\n",
    "check_simulations_content = JSON.parse(String(HTTP.body(check_simulations_response)))"
   ]
  },
  {
   "cell_type": "markdown",
   "id": "36b1ecba",
   "metadata": {},
   "source": [
    "The process can take some time to complete.\n",
    "The following code polls the API to check for success every `step` seconds, with a `timeout` in seconds."
   ]
  },
  {
   "cell_type": "code",
   "execution_count": null,
   "id": "889fda7a-4026-4b55-a9da-2fdcb825f338",
   "metadata": {},
   "outputs": [],
   "source": [
    "stp = 60\n",
    "timeout = 600\n",
    "\n",
    "tm = 0\n",
    "check_simulations_response = nothing\n",
    "while tm <= timeout\n",
    "    check_simulations_response = HTTP.get(check_simulations_url, headers)\n",
    "    check_simulations_content = JSON.parse(String(HTTP.body(check_simulations_response)))\n",
    "    if check_simulations_content[\"status\"] == \"complete\"\n",
    "        break\n",
    "    end\n",
    "    sleep(stp)\n",
    "    tm += stp\n",
    "end"
   ]
  },
  {
   "cell_type": "code",
   "execution_count": null,
   "id": "be0d4033",
   "metadata": {},
   "outputs": [],
   "source": [
    "check_simulations_content"
   ]
  },
  {
   "cell_type": "markdown",
   "id": "5d355b5b-407a-4c29-a61e-69ff4a14911b",
   "metadata": {},
   "source": [
    "## Export simulation output"
   ]
  },
  {
   "cell_type": "code",
   "execution_count": null,
   "id": "f97aafa7-f278-4068-905c-d9718b4e0bbc",
   "metadata": {},
   "outputs": [],
   "source": [
    "export_simulations_url =  url * \"/api/simulations/\" * simulation_id * \"/model-runs/\" * model_slug * \"/export\""
   ]
  },
  {
   "cell_type": "code",
   "execution_count": null,
   "id": "bac7fe5b-eb5b-4742-8cc8-03647ea6dbfc",
   "metadata": {},
   "outputs": [],
   "source": [
    "export_simulations_response = HTTP.get(export_simulations_url, headers)\n",
    "\n",
    "@assert HTTP.status(export_simulations_response) == 200\n",
    "\n",
    "export_simulations_content = JSON.parse(String(HTTP.body(export_simulations_response)))"
   ]
  }
 ],
 "metadata": {
  "kernelspec": {
   "display_name": "Julia 1.7.3",
   "language": "julia",
   "name": "julia-1.7"
  },
  "language_info": {
   "file_extension": ".jl",
   "mimetype": "application/julia",
   "name": "julia",
   "version": "1.7.3"
  }
 },
 "nbformat": 4,
 "nbformat_minor": 5
}
