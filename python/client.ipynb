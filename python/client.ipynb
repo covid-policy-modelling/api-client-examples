{
 "cells": [
  {
   "cell_type": "markdown",
   "id": "d165a35c-85fc-4893-9f93-274f9fd2ecfb",
   "metadata": {},
   "source": [
    "## Load libraries"
   ]
  },
  {
   "cell_type": "code",
   "execution_count": 1,
   "id": "2831b609-f9e2-4bc0-8868-382582406873",
   "metadata": {},
   "outputs": [],
   "source": [
    "import json\n",
    "import urllib\n",
    "import requests\n",
    "import polling"
   ]
  },
  {
   "cell_type": "markdown",
   "id": "e5a87dee-6715-4834-bc22-9a0a7af2f8af",
   "metadata": {},
   "source": [
    "## Set token/URL\n",
    "\n",
    "The Python `requests` library expects a single URL, rather than a URL plus a path, hence we define a URL that includes the path to the simulation calls."
   ]
  },
  {
   "cell_type": "code",
   "execution_count": 2,
   "id": "f89b1e8f-3fc7-45ca-a12b-04a036d50922",
   "metadata": {},
   "outputs": [],
   "source": [
    "token_file = \"token.json\"\n",
    "base_path = \"https://covid-modelling-stg.epcc.ed.ac.uk/api\"\n",
    "simulations_url = \"/\".join([base_path, \"simulations\"])"
   ]
  },
  {
   "cell_type": "code",
   "execution_count": 3,
   "id": "1064f870-6512-4b26-b021-65f0625a1edf",
   "metadata": {},
   "outputs": [],
   "source": [
    "with open(token_file,'r') as f:\n",
    "    token = json.load(f)[\"token\"]"
   ]
  },
  {
   "cell_type": "code",
   "execution_count": 4,
   "id": "5e0a99e8-761c-4857-a060-cbe4d51294c1",
   "metadata": {},
   "outputs": [],
   "source": [
    "headers = {\"accept\":\"application/json; charset=utf-8\", \"Content-Type\": \"application/json\", \"Authorization\": \"Bearer \"+ token}"
   ]
  },
  {
   "cell_type": "markdown",
   "id": "72a52abf-074c-473a-b69f-df4822690a02",
   "metadata": {},
   "source": [
    "## Input"
   ]
  },
  {
   "cell_type": "code",
   "execution_count": 5,
   "id": "90c7ef73-f9a4-484f-bf06-781c80d987e6",
   "metadata": {},
   "outputs": [],
   "source": [
    "inputJSON = {\n",
    "  \"model_slug\": \"sir-ode-python\",\n",
    "  \"config\": {\n",
    "    \"p\": [\n",
    "      0.5,\n",
    "      0.25\n",
    "    ],\n",
    "    \"u0\": [\n",
    "      0.99,\n",
    "      0.01,\n",
    "      0\n",
    "    ],\n",
    "    \"tspan\": [\n",
    "      0,\n",
    "      10000\n",
    "    ]\n",
    "  }\n",
    "}"
   ]
  },
  {
   "cell_type": "markdown",
   "id": "d783f6e4-fc56-4412-a6ed-38a8e60073dd",
   "metadata": {},
   "source": [
    "These are parameters to poll for output (every `step` seconds) and to timeout the simulation."
   ]
  },
  {
   "cell_type": "code",
   "execution_count": 12,
   "id": "b630af34-5010-48be-ba8f-03535f52b08e",
   "metadata": {},
   "outputs": [],
   "source": [
    "step = 60\n",
    "timeout = 600"
   ]
  },
  {
   "cell_type": "markdown",
   "id": "3108decf-54d6-4cb9-b52e-03f1e46139f9",
   "metadata": {},
   "source": [
    "## Post simulations"
   ]
  },
  {
   "cell_type": "code",
   "execution_count": 6,
   "id": "b92a44c3-d4a5-49fc-9780-fc410c7dfddf",
   "metadata": {},
   "outputs": [],
   "source": [
    "post_simulations_response = requests.post(simulations_url, json = inputJSON, headers = headers)"
   ]
  },
  {
   "cell_type": "code",
   "execution_count": 7,
   "id": "a348a939-1c39-49a0-ab6c-a4d58fece209",
   "metadata": {},
   "outputs": [
    {
     "data": {
      "text/plain": [
       "200"
      ]
     },
     "execution_count": 7,
     "metadata": {},
     "output_type": "execute_result"
    }
   ],
   "source": [
    "post_simulations_response.status_code"
   ]
  },
  {
   "cell_type": "code",
   "execution_count": 9,
   "id": "fd073104-26ff-40bf-8714-9261f37aca9b",
   "metadata": {},
   "outputs": [
    {
     "data": {
      "text/plain": [
       "{'id': 127}"
      ]
     },
     "execution_count": 9,
     "metadata": {},
     "output_type": "execute_result"
    }
   ],
   "source": [
    "post_simulations_content = post_simulations_response.json()\n",
    "post_simulations_content"
   ]
  },
  {
   "cell_type": "markdown",
   "id": "02c0a251-f842-4186-8b40-5c7c36c6beda",
   "metadata": {},
   "source": [
    "## Check simulations"
   ]
  },
  {
   "cell_type": "code",
   "execution_count": 17,
   "id": "6ef2aee7-f59b-4fd2-bba4-4c9c88bf62cf",
   "metadata": {},
   "outputs": [
    {
     "data": {
      "text/plain": [
       "'https://covid-modelling-stg.epcc.ed.ac.uk/api/simulations/127'"
      ]
     },
     "execution_count": 17,
     "metadata": {},
     "output_type": "execute_result"
    }
   ],
   "source": [
    "check_simulations_url = \"/\".join([simulations_url,str(post_simulations_response.json()[\"id\"])])\n",
    "check_simulations_url"
   ]
  },
  {
   "cell_type": "code",
   "execution_count": 21,
   "id": "ac0f9762-acae-4fcb-bab5-405332cfbcb5",
   "metadata": {},
   "outputs": [],
   "source": [
    "check_simulations_response = requests.get(check_simulations_url, headers = headers)"
   ]
  },
  {
   "cell_type": "code",
   "execution_count": 23,
   "id": "2627cff6-bbeb-4239-8f03-59abe5dabb68",
   "metadata": {},
   "outputs": [
    {
     "data": {
      "text/plain": [
       "200"
      ]
     },
     "execution_count": 23,
     "metadata": {},
     "output_type": "execute_result"
    }
   ],
   "source": [
    "check_simulations_response.status_code"
   ]
  },
  {
   "cell_type": "code",
   "execution_count": 24,
   "id": "e2f92aa6-9c8b-4c47-8564-11ce7b1d992e",
   "metadata": {},
   "outputs": [
    {
     "data": {
      "text/plain": [
       "{'id': 127,\n",
       " 'github_user_id': 2164195,\n",
       " 'github_user_login': 'sdwfrost',\n",
       " 'region_name': None,\n",
       " 'subregion_name': None,\n",
       " 'region_id': None,\n",
       " 'subregion_id': None,\n",
       " 'configuration': {'p': [0.5, 0.25],\n",
       "  'u0': [0.99, 0.01, 0],\n",
       "  'tspan': [0, 10000]},\n",
       " 'model_runs': [{'status': 'unsupported',\n",
       "   'model_slug': 'basel',\n",
       "   'results_data': '',\n",
       "   'export_location': ''},\n",
       "  {'status': 'unsupported',\n",
       "   'model_slug': 'mrc-ide-covid-sim',\n",
       "   'results_data': '',\n",
       "   'export_location': ''},\n",
       "  {'status': 'unsupported',\n",
       "   'model_slug': 'idm-covasim',\n",
       "   'results_data': '',\n",
       "   'export_location': ''},\n",
       "  {'status': 'unsupported',\n",
       "   'model_slug': 'wss',\n",
       "   'results_data': '',\n",
       "   'export_location': ''},\n",
       "  {'status': 'complete',\n",
       "   'model_slug': 'sir-ode-python',\n",
       "   'results_data': 'simulation-runs/Wl2t9N8Ms5hKqQu8KV0glf1OqlViATn+m4SkOu90TZU=/public/data.json',\n",
       "   'export_location': 'simulation-runs/Wl2t9N8Ms5hKqQu8KV0glf1OqlViATn+m4SkOu90TZU=/public/export.zip'},\n",
       "  {'status': 'unsupported',\n",
       "   'model_slug': 'micromob-bh-rm',\n",
       "   'results_data': '',\n",
       "   'export_location': ''}],\n",
       " 'label': '',\n",
       " 'created_at': '2022-05-27T16:25:06Z',\n",
       " 'updated_at': '2022-05-27T16:25:06Z',\n",
       " 'status': 'in-progress'}"
      ]
     },
     "execution_count": 24,
     "metadata": {},
     "output_type": "execute_result"
    }
   ],
   "source": [
    "check_simulations_content = check_simulations_response.json()\n",
    "check_simulations_content"
   ]
  },
  {
   "cell_type": "markdown",
   "id": "0dbf6f9e-b942-4fac-b4ee-297ce40fda8f",
   "metadata": {},
   "source": [
    "## Export simulation output"
   ]
  },
  {
   "cell_type": "code",
   "execution_count": 10,
   "id": "2983adfe-2b7e-4455-bef4-a3f75b0f32b5",
   "metadata": {},
   "outputs": [],
   "source": [
    "export_simulations_params = {\n",
    "    \"model\": inputJSON[\"model_slug\"],\n",
    "    \"format\": \"results\"\n",
    "}"
   ]
  },
  {
   "cell_type": "code",
   "execution_count": 11,
   "id": "7da332ce-9bac-431a-abd5-6470d5a615a3",
   "metadata": {},
   "outputs": [
    {
     "data": {
      "text/plain": [
       "'https://covid-modelling-stg.epcc.ed.ac.uk/api/simulations/127/export'"
      ]
     },
     "execution_count": 11,
     "metadata": {},
     "output_type": "execute_result"
    }
   ],
   "source": [
    "export_simulations_url = \"/\".join([simulations_url,str(post_simulations_response.json()[\"id\"]),\"export\"])\n",
    "export_simulations_url"
   ]
  },
  {
   "cell_type": "markdown",
   "id": "d8da934e-724b-4cb1-b8a1-71ad9fb929d0",
   "metadata": {},
   "source": [
    "The following code polls the API to check for success every `step` seconds, with a `timeout` in seconds."
   ]
  },
  {
   "cell_type": "code",
   "execution_count": 15,
   "id": "8c9ecab3-7291-4db9-b0f0-6e66421c794e",
   "metadata": {},
   "outputs": [],
   "source": [
    "def is_200_response(response):\n",
    "    \"\"\"Check that the response returned 'success'\"\"\"\n",
    "    return response.status_code == 200\n",
    "\n",
    "try:\n",
    "    export_simulations_response = polling.poll(\n",
    "        lambda: requests.get(export_simulations_url, params = export_simulations_params, headers = headers),\n",
    "        check_success=is_200_response,\n",
    "        step=step,\n",
    "        timeout=timeout)\n",
    "except polling.TimeoutException:\n",
    "    print(export_simulations_url+\" failed\")"
   ]
  },
  {
   "cell_type": "code",
   "execution_count": 16,
   "id": "dfadc4f5-aef5-47b4-8b92-1aa9f64f54bf",
   "metadata": {},
   "outputs": [
    {
     "data": {
      "text/plain": [
       "{'metadata': {'p': [0.5, 0.25], 'u0': [0.99, 0.01, 0], 'tspan': [0, 10000]},\n",
       " 'model': {'name': 'sir-ode-python',\n",
       "  'modelVersion': '',\n",
       "  'connectorVersion': ''},\n",
       " 't': [0,\n",
       "  0.09284972135797114,\n",
       "  1.0213469349376825,\n",
       "  4.730308099259784,\n",
       "  10.22867768926573,\n",
       "  18.314252615167373,\n",
       "  27.827530514766856,\n",
       "  37.199522058929524,\n",
       "  43.77195890487287,\n",
       "  50.34439575081621,\n",
       "  57.3485144317926,\n",
       "  64.42717783070341,\n",
       "  71.96730511161991,\n",
       "  80.42082880780592,\n",
       "  90.4035138669975,\n",
       "  102.75262015167876],\n",
       " 'u': [[0.99,\n",
       "   0.9895352372107644,\n",
       "   0.9842749739892699,\n",
       "   0.9474778577501857,\n",
       "   0.8111285685695783,\n",
       "   0.4692702181049498,\n",
       "   0.2718634256070883,\n",
       "   0.2237105381716237,\n",
       "   0.213843871904752,\n",
       "   0.21009771771198776,\n",
       "   0.20861408640735243,\n",
       "   0.20807773246099143,\n",
       "   0.20788008766351446,\n",
       "   0.20781024841779758,\n",
       "   0.20778823424147266,\n",
       "   0.2077826379984259],\n",
       "  [0.01,\n",
       "   0.01022997899299957,\n",
       "   0.012825206057771092,\n",
       "   0.030572187075163206,\n",
       "   0.08927463371474981,\n",
       "   0.157367415842732,\n",
       "   0.07055669501902456,\n",
       "   0.02102231504920138,\n",
       "   0.008321134019099737,\n",
       "   0.003227693264236363,\n",
       "   0.0011672397559951164,\n",
       "   0.00041631242713505504,\n",
       "   0.00013877920070742952,\n",
       "   4.060493250070489e-05,\n",
       "   9.647686788822059e-06,\n",
       "   1.7771210413249886e-06],\n",
       "  [0,\n",
       "   0.00023478379623604633,\n",
       "   0.0028998199529591093,\n",
       "   0.021949955174651183,\n",
       "   0.09959679771567201,\n",
       "   0.3733623660523182,\n",
       "   0.6575798793738872,\n",
       "   0.755267146779175,\n",
       "   0.7778349940761483,\n",
       "   0.786674589023776,\n",
       "   0.7902186738366526,\n",
       "   0.7915059551118736,\n",
       "   0.7919811331357782,\n",
       "   0.7921491466497018,\n",
       "   0.7922021180717386,\n",
       "   0.7922155848805329]],\n",
       " 'outputs': [0.7922155848805329, 0.15742164632511088, 18.119443842031835]}"
      ]
     },
     "execution_count": 16,
     "metadata": {},
     "output_type": "execute_result"
    }
   ],
   "source": [
    "export_simulations_content = export_simulations_response.json()\n",
    "export_simulations_content"
   ]
  }
 ],
 "metadata": {
  "kernelspec": {
   "display_name": "Python 3 (ipykernel)",
   "language": "python",
   "name": "python3"
  },
  "language_info": {
   "codemirror_mode": {
    "name": "ipython",
    "version": 3
   },
   "file_extension": ".py",
   "mimetype": "text/x-python",
   "name": "python",
   "nbconvert_exporter": "python",
   "pygments_lexer": "ipython3",
   "version": "3.8.2"
  }
 },
 "nbformat": 4,
 "nbformat_minor": 5
}
