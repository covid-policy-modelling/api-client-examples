{
 "cells": [
  {
   "cell_type": "markdown",
   "id": "d165a35c-85fc-4893-9f93-274f9fd2ecfb",
   "metadata": {},
   "source": [
    "## Load libraries"
   ]
  },
  {
   "cell_type": "code",
   "execution_count": null,
   "id": "2831b609-f9e2-4bc0-8868-382582406873",
   "metadata": {},
   "outputs": [],
   "source": [
    "import json\n",
    "import os\n",
    "import urllib\n",
    "\n",
    "import requests\n",
    "import polling\n"
   ]
  },
  {
   "cell_type": "markdown",
   "id": "e5a87dee-6715-4834-bc22-9a0a7af2f8af",
   "metadata": {},
   "source": [
    "## Set token/URL\n",
    "\n",
    "The Python `requests` library expects a single URL, rather than a URL plus a path, hence we define a URL that includes the path to the simulation calls."
   ]
  },
  {
   "cell_type": "code",
   "execution_count": null,
   "id": "f89b1e8f-3fc7-45ca-a12b-04a036d50922",
   "metadata": {},
   "outputs": [],
   "source": [
    "token = os.getenv(\"API_TOKEN\")\n",
    "assert token\n",
    "\n",
    "base_path = os.getenv(\"API_BASE_URL\", \"https://covid-modelling-stg.epcc.ed.ac.uk\")"
   ]
  },
  {
   "cell_type": "code",
   "execution_count": null,
   "id": "5e0a99e8-761c-4857-a060-cbe4d51294c1",
   "metadata": {},
   "outputs": [],
   "source": [
    "model_slug = \"sir-ode-python\"\n",
    "headers = {\n",
    "    \"accept\":\"application/json; charset=utf-8\", \n",
    "    \"Content-Type\": \"application/json\", \n",
    "    \"Authorization\": \"Bearer \"+ token\n",
    "}"
   ]
  },
  {
   "cell_type": "markdown",
   "id": "72a52abf-074c-473a-b69f-df4822690a02",
   "metadata": {},
   "source": [
    "## Input"
   ]
  },
  {
   "cell_type": "code",
   "execution_count": null,
   "id": "90c7ef73-f9a4-484f-bf06-781c80d987e6",
   "metadata": {},
   "outputs": [],
   "source": [
    "inputJSON = {\n",
    "  \"p\": [\n",
    "    0.5,\n",
    "    0.25\n",
    "  ],\n",
    "  \"u0\": [\n",
    "    0.99,\n",
    "    0.01,\n",
    "    0\n",
    "  ],\n",
    "  \"tspan\": [\n",
    "    0,\n",
    "    10000\n",
    "  ]\n",
    "}"
   ]
  },
  {
   "cell_type": "markdown",
   "id": "3108decf-54d6-4cb9-b52e-03f1e46139f9",
   "metadata": {},
   "source": [
    "## Post simulations"
   ]
  },
  {
   "cell_type": "code",
   "execution_count": null,
   "id": "9a1a56b8",
   "metadata": {},
   "outputs": [],
   "source": [
    "post_simulations_url = \"/\".join([base_path, \"api\", \"simulations\", \"model-runs\", model_slug])\n",
    "post_simulations_url"
   ]
  },
  {
   "cell_type": "code",
   "execution_count": null,
   "id": "fd073104-26ff-40bf-8714-9261f37aca9b",
   "metadata": {},
   "outputs": [],
   "source": [
    "post_simulations_response = requests.post(post_simulations_url, json = inputJSON, headers = headers)\n",
    "\n",
    "assert post_simulations_response.status_code == 200\n",
    "\n",
    "post_simulations_content = post_simulations_response.json()\n",
    "post_simulations_content"
   ]
  },
  {
   "cell_type": "markdown",
   "id": "05014dfc",
   "metadata": {},
   "source": [
    "We need the ID to construct other URLs later."
   ]
  },
  {
   "cell_type": "code",
   "execution_count": null,
   "id": "2fd9b876",
   "metadata": {},
   "outputs": [],
   "source": [
    "simulation_id = str(post_simulations_content[\"id\"])"
   ]
  },
  {
   "cell_type": "markdown",
   "id": "02c0a251-f842-4186-8b40-5c7c36c6beda",
   "metadata": {},
   "source": [
    "## Check simulations"
   ]
  },
  {
   "cell_type": "code",
   "execution_count": null,
   "id": "6ef2aee7-f59b-4fd2-bba4-4c9c88bf62cf",
   "metadata": {},
   "outputs": [],
   "source": [
    "check_simulations_url = \"/\".join([base_path, \"api\", \"simulations\", simulation_id, \"model-runs\", model_slug])\n",
    "check_simulations_url"
   ]
  },
  {
   "cell_type": "code",
   "execution_count": null,
   "id": "e2f92aa6-9c8b-4c47-8564-11ce7b1d992e",
   "metadata": {},
   "outputs": [],
   "source": [
    "check_simulations_response = requests.get(check_simulations_url, headers = headers)\n",
    "\n",
    "assert check_simulations_response.status_code == 200\n",
    "\n",
    "check_simulations_content = check_simulations_response.json()\n",
    "check_simulations_content"
   ]
  },
  {
   "cell_type": "markdown",
   "id": "49bfc7ea",
   "metadata": {},
   "source": [
    "The process can take some time to complete.\n",
    "The following code polls the API to check for success every `step` seconds, with a `timeout` in seconds."
   ]
  },
  {
   "cell_type": "code",
   "execution_count": null,
   "id": "ab2eed67",
   "metadata": {},
   "outputs": [],
   "source": [
    "step = 60\n",
    "timeout = 600\n",
    "\n",
    "def is_complete(response):\n",
    "    \"\"\"Check that the response returned 'complete'\"\"\"\n",
    "    return response.json()[\"status\"] == \"complete\"\n",
    "\n",
    "try:\n",
    "    check_simulations_response = polling.poll(\n",
    "        lambda: requests.get(check_simulations_url, headers = headers),\n",
    "        check_success=is_complete,\n",
    "        step=step,\n",
    "        timeout=timeout)\n",
    "except polling.TimeoutException:\n",
    "    print(check_simulations_url+\" failed\")"
   ]
  },
  {
   "cell_type": "code",
   "execution_count": null,
   "id": "c10728f6",
   "metadata": {},
   "outputs": [],
   "source": [
    "check_simulations_content = check_simulations_response.json()\n",
    "check_simulations_content"
   ]
  },
  {
   "cell_type": "markdown",
   "id": "0dbf6f9e-b942-4fac-b4ee-297ce40fda8f",
   "metadata": {},
   "source": [
    "# Export simulation results"
   ]
  },
  {
   "cell_type": "code",
   "execution_count": null,
   "id": "7da332ce-9bac-431a-abd5-6470d5a615a3",
   "metadata": {},
   "outputs": [],
   "source": [
    "export_simulations_url = \"/\".join([base_path, \"api\", \"simulations\", simulation_id, \"model-runs\", model_slug, \"export\"])\n",
    "export_simulations_url"
   ]
  },
  {
   "cell_type": "code",
   "execution_count": null,
   "id": "dfadc4f5-aef5-47b4-8b92-1aa9f64f54bf",
   "metadata": {},
   "outputs": [],
   "source": [
    "export_simulations_response = requests.get(export_simulations_url, headers = headers)\n",
    "\n",
    "assert export_simulations_response.status_code == 200\n",
    "\n",
    "export_simulations_content = export_simulations_response.json()\n",
    "export_simulations_content"
   ]
  },
  {
   "cell_type": "markdown",
   "id": "c003ad1f",
   "metadata": {},
   "source": [
    "# Download simulation output"
   ]
  },
  {
   "cell_type": "markdown",
   "id": "853ad6d9",
   "metadata": {},
   "source": [
    "If we need access to the full output and logs of the simulation, for example for debugging purposes, we can get that via the `download` endpoint."
   ]
  },
  {
   "cell_type": "code",
   "execution_count": null,
   "id": "61fd70d5",
   "metadata": {},
   "outputs": [],
   "source": [
    "download_simulations_url = \"/\".join([base_path, \"api\", \"simulations\", simulation_id, \"model-runs\", model_slug, \"download\"])\n",
    "download_simulations_url"
   ]
  },
  {
   "cell_type": "markdown",
   "id": "0c578631",
   "metadata": {},
   "source": [
    "This endpoint returns a `307 Redirect` to another URL where the contents can be accessed (as a `.zip`). We could follow this and save them to a file in code, but for now we're just going to print the URL."
   ]
  },
  {
   "cell_type": "code",
   "execution_count": null,
   "id": "e70d1120",
   "metadata": {},
   "outputs": [],
   "source": [
    "download_simulations_response = requests.get(download_simulations_url, headers = headers, allow_redirects=False)\n",
    "\n",
    "assert download_simulations_response.status_code == 307\n",
    "\n",
    "download_simulations_response.headers['Location']"
   ]
  },
  {
   "cell_type": "markdown",
   "id": "66a48238",
   "metadata": {},
   "source": [
    "Copy and paste the URL above into a browser, and you'll be able to download the files to your machine."
   ]
  },
  {
   "cell_type": "markdown",
   "id": "284394dd",
   "metadata": {},
   "source": [
    "# Groups of simulations"
   ]
  },
  {
   "cell_type": "markdown",
   "id": "5705c36a",
   "metadata": {},
   "source": [
    "The API can also be used to run multiple models on the same set of inputs, in the same way as the UI itself. This uses a different input schema."
   ]
  },
  {
   "cell_type": "code",
   "execution_count": null,
   "id": "17e8be67",
   "metadata": {},
   "outputs": [],
   "source": [
    "inputJSON = {\n",
    "  \"regionID\": \"GB\",\n",
    "  \"subregionID\": \"GB-ENG\",\n",
    "  \"label\": \"Simulation\",\n",
    "  \"customCalibrationDate\": \"2020-03-06\",\n",
    "  \"interventionPeriods\": [\n",
    "    {\n",
    "      \"startDate\": \"2020-03-06\",\n",
    "      \"socialDistancing\": \"aggressive\",\n",
    "      \"schoolClosure\": \"aggressive\",\n",
    "      \"caseIsolation\": \"aggressive\",\n",
    "      \"voluntaryHomeQuarantine\": \"aggressive\",\n",
    "      \"reductionPopulationContact\": 0\n",
    "    }\n",
    "  ]\n",
    "}"
   ]
  },
  {
   "cell_type": "code",
   "execution_count": null,
   "id": "9f3f310e",
   "metadata": {},
   "outputs": [],
   "source": [
    "post_simulations_url = \"/\".join([base_path, \"api\", \"simulations\"])\n",
    "post_simulations_url"
   ]
  },
  {
   "cell_type": "code",
   "execution_count": null,
   "id": "09c14775",
   "metadata": {},
   "outputs": [],
   "source": [
    "post_simulations_response = requests.post(post_simulations_url, json = inputJSON, headers = headers)\n",
    "\n",
    "assert post_simulations_response.status_code == 200\n",
    "\n",
    "post_simulations_content = post_simulations_response.json()\n",
    "post_simulations_content\n",
    "\n",
    "simulation_id = str(post_simulations_content[\"id\"])"
   ]
  },
  {
   "cell_type": "markdown",
   "id": "9bbfc04b",
   "metadata": {},
   "source": [
    "This time, we want to check the status of the top-level simulation"
   ]
  },
  {
   "cell_type": "code",
   "execution_count": null,
   "id": "82d7bc2a",
   "metadata": {},
   "outputs": [],
   "source": [
    "check_simulations_url = \"/\".join([base_path, \"api\", \"simulations\", simulation_id])\n",
    "check_simulations_url"
   ]
  },
  {
   "cell_type": "code",
   "execution_count": null,
   "id": "61b151da",
   "metadata": {},
   "outputs": [],
   "source": [
    "check_simulations_response = requests.get(check_simulations_url, headers = headers)\n",
    "\n",
    "assert check_simulations_response.status_code == 200\n",
    "\n",
    "check_simulations_content = check_simulations_response.json()\n",
    "check_simulations_content"
   ]
  },
  {
   "cell_type": "markdown",
   "id": "31af96a6",
   "metadata": {},
   "source": [
    "Again, we need to poll until the simulations are complete."
   ]
  },
  {
   "cell_type": "code",
   "execution_count": null,
   "id": "a63777e2",
   "metadata": {},
   "outputs": [],
   "source": [
    "step = 60\n",
    "timeout = 600\n",
    "\n",
    "def is_complete(response):\n",
    "    \"\"\"Check that the response returned 'complete'\"\"\"\n",
    "    for model in response.json()[\"model_runs\"]:\n",
    "        if model[\"status\"] in [\"pending\", \"in-progress\"]:\n",
    "            return False\n",
    "    return True\n",
    "\n",
    "try:\n",
    "    check_simulations_response = polling.poll(\n",
    "        lambda: requests.get(check_simulations_url, headers = headers),\n",
    "        check_success=is_complete,\n",
    "        step=step,\n",
    "        timeout=timeout)\n",
    "except polling.TimeoutException:\n",
    "    print(check_simulations_url+\" failed\")"
   ]
  },
  {
   "cell_type": "code",
   "execution_count": null,
   "id": "807e31d6",
   "metadata": {},
   "outputs": [],
   "source": [
    "check_simulations_content = check_simulations_response.json()\n",
    "check_simulations_content"
   ]
  },
  {
   "cell_type": "markdown",
   "id": "6cd233f0",
   "metadata": {},
   "source": [
    "We can then retrieve a summary of the results across the models:"
   ]
  },
  {
   "cell_type": "code",
   "execution_count": null,
   "id": "4fe015f7",
   "metadata": {},
   "outputs": [],
   "source": [
    "case_summary_url = \"/\".join([base_path, \"api\", \"simulations\", simulation_id, \"case-summary\"])\n",
    "case_summary_url"
   ]
  },
  {
   "cell_type": "code",
   "execution_count": null,
   "id": "87b47f66",
   "metadata": {},
   "outputs": [],
   "source": [
    "case_summary_response = requests.get(case_summary_url, headers = headers)\n",
    "\n",
    "assert case_summary_response.status_code == 200\n",
    "\n",
    "case_summary_content = case_summary_response.json()\n",
    "case_summary_content"
   ]
  },
  {
   "cell_type": "markdown",
   "id": "cc63e429",
   "metadata": {},
   "source": [
    "If we want to get the details of a particular model, we can use the same endpoint as before."
   ]
  },
  {
   "cell_type": "code",
   "execution_count": null,
   "id": "0de920b1",
   "metadata": {},
   "outputs": [],
   "source": [
    "export_simulations_url = \"/\".join([base_path, \"api\", \"simulations\", simulation_id, \"model-runs\", \"wss\", \"export\"])\n",
    "export_simulations_url"
   ]
  },
  {
   "cell_type": "code",
   "execution_count": null,
   "id": "745eccd6",
   "metadata": {},
   "outputs": [],
   "source": [
    "export_simulations_response = requests.get(export_simulations_url, headers = headers)\n",
    "\n",
    "assert export_simulations_response.status_code == 200\n",
    "\n",
    "export_simulations_content = export_simulations_response.json()\n",
    "export_simulations_content"
   ]
  },
  {
   "cell_type": "markdown",
   "id": "65bc8226",
   "metadata": {},
   "source": [
    "Some models also support a `format` parameter, in order to get results back in alternatives formats."
   ]
  },
  {
   "cell_type": "code",
   "execution_count": null,
   "id": "4b976a6c",
   "metadata": {},
   "outputs": [],
   "source": [
    "export_simulations_response = requests.get(export_simulations_url, params = { \"format\": \"crystalcast\" }, headers = headers)\n",
    "\n",
    "assert export_simulations_response.status_code == 200\n",
    "\n",
    "export_simulations_content = export_simulations_response.text\n",
    "export_simulations_content"
   ]
  },
  {
   "cell_type": "markdown",
   "id": "dc7a5192",
   "metadata": {},
   "source": [
    "# Errors"
   ]
  },
  {
   "cell_type": "markdown",
   "id": "bf718c55",
   "metadata": {},
   "source": [
    "The following submits a simulation with the wrong configuration for the chosen model."
   ]
  },
  {
   "cell_type": "code",
   "execution_count": null,
   "id": "b4a4e1f4",
   "metadata": {},
   "outputs": [],
   "source": [
    "post_simulations_url = \"/\".join([base_path, \"api\", \"simulations\", \"model-runs\", \"wss\"])\n",
    "post_simulations_url"
   ]
  },
  {
   "cell_type": "code",
   "execution_count": null,
   "id": "3ed2949c",
   "metadata": {},
   "outputs": [],
   "source": [
    "post_simulations_response = requests.post(post_simulations_url, json = inputJSON, headers = headers)"
   ]
  },
  {
   "cell_type": "markdown",
   "id": "81c7f8d2",
   "metadata": {},
   "source": [
    "This time, we expect to get back a `422` response"
   ]
  },
  {
   "cell_type": "code",
   "execution_count": null,
   "id": "f3352324",
   "metadata": {},
   "outputs": [],
   "source": [
    "assert post_simulations_response.status_code == 422"
   ]
  },
  {
   "cell_type": "markdown",
   "id": "411c1c40",
   "metadata": {},
   "source": [
    "And we can see the error description:"
   ]
  },
  {
   "cell_type": "code",
   "execution_count": null,
   "id": "4c3915fa",
   "metadata": {},
   "outputs": [],
   "source": [
    "post_simulations_response.json()"
   ]
  },
  {
   "cell_type": "code",
   "execution_count": null,
   "id": "a8cb764f",
   "metadata": {},
   "outputs": [],
   "source": []
  }
 ],
 "metadata": {
  "kernelspec": {
   "display_name": "Python 3 (ipykernel)",
   "language": "python",
   "name": "python3"
  },
  "language_info": {
   "codemirror_mode": {
    "name": "ipython",
    "version": 3
   },
   "file_extension": ".py",
   "mimetype": "text/x-python",
   "name": "python",
   "nbconvert_exporter": "python",
   "pygments_lexer": "ipython3",
   "version": "3.8.2"
  }
 },
 "nbformat": 4,
 "nbformat_minor": 5
}
