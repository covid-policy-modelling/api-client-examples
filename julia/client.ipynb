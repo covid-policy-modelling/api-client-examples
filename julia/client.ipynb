{
 "cells": [
  {
   "cell_type": "markdown",
   "id": "5241989c-451d-4661-a30d-1521aefd75d4",
   "metadata": {},
   "source": [
    "## Load libraries"
   ]
  },
  {
   "cell_type": "code",
   "execution_count": null,
   "id": "250920f1-3480-4aae-b530-6d466b3ac24f",
   "metadata": {},
   "outputs": [],
   "source": [
    "using HTTP\n",
    "using JSON\n",
    "using DataStructures"
   ]
  },
  {
   "cell_type": "markdown",
   "id": "9cb2faba-3c7f-401b-ad63-88ce6af6001d",
   "metadata": {},
   "source": [
    "## Set token/URL"
   ]
  },
  {
   "cell_type": "code",
   "execution_count": null,
   "id": "1538dba4-a72a-4213-b0cf-7e60a046f86b",
   "metadata": {},
   "outputs": [],
   "source": [
    "token = get(ENV, \"API_TOKEN\", \"\")\n",
    "@assert !isempty(token)\n",
    "url = get(ENV, \"API_BASE_URL\", \"https://covid-modelling-stg.epcc.ed.ac.uk\")"
   ]
  },
  {
   "cell_type": "code",
   "execution_count": null,
   "id": "676ed07e-7849-42b5-8402-814091115fa2",
   "metadata": {},
   "outputs": [],
   "source": [
    "headers = OrderedDict(\"accept\"=>\"application/json; charset=utf-8\", \"Content-Type\"=>\"application/json\", \"Authorization\"=> \"Bearer \"*token);"
   ]
  },
  {
   "cell_type": "markdown",
   "id": "bcb34cf6-b412-44ce-81f1-1082d8bcf38b",
   "metadata": {},
   "source": [
    "## Input"
   ]
  },
  {
   "cell_type": "code",
   "execution_count": null,
   "id": "2d1621bf-f1e5-411b-8540-49d124734670",
   "metadata": {},
   "outputs": [],
   "source": [
    "inputJSON = OrderedDict(\n",
    "  \"model_slug\" => \"sir-ode-python\",\n",
    "  \"config\" => Dict(\n",
    "    \"p\" => [\n",
    "      0.5,\n",
    "      0.25\n",
    "    ],\n",
    "    \"u0\" => [\n",
    "      0.99,\n",
    "      0.01,\n",
    "      0\n",
    "    ],\n",
    "    \"tspan\" => [\n",
    "      0,\n",
    "      10000\n",
    "    ]\n",
    "  )\n",
    ");"
   ]
  },
  {
   "cell_type": "code",
   "execution_count": null,
   "id": "889fda7a-4026-4b55-a9da-2fdcb825f338",
   "metadata": {},
   "outputs": [],
   "source": [
    "stp = 60\n",
    "timeout = 600;"
   ]
  },
  {
   "cell_type": "markdown",
   "id": "440d557c-a818-401a-80c5-a86f84b75944",
   "metadata": {},
   "source": [
    "## Post simulations"
   ]
  },
  {
   "cell_type": "code",
   "execution_count": null,
   "id": "91b9512f-01c4-444f-b577-d870f9ad41f9",
   "metadata": {},
   "outputs": [],
   "source": [
    "post_simulations_response = HTTP.post(url * \"/api/simulations\", headers, json(inputJSON))"
   ]
  },
  {
   "cell_type": "code",
   "execution_count": null,
   "id": "4446c1eb-c3ca-45e9-b66e-1e18180aaff8",
   "metadata": {},
   "outputs": [],
   "source": [
    "HTTP.status(post_simulations_response)"
   ]
  },
  {
   "cell_type": "code",
   "execution_count": null,
   "id": "04e3c71c-4dbe-43f4-b5c0-28e68354a1d9",
   "metadata": {},
   "outputs": [],
   "source": [
    "post_simulations_content = JSON.parse(String(HTTP.body(post_simulations_response)))"
   ]
  },
  {
   "cell_type": "markdown",
   "id": "cfc6c61b-e85e-49ef-a247-79a21a1fefb9",
   "metadata": {},
   "source": [
    "## Check simulations"
   ]
  },
  {
   "cell_type": "code",
   "execution_count": null,
   "id": "5159d2ee-6f3f-4365-b043-237c500624f0",
   "metadata": {},
   "outputs": [],
   "source": [
    "check_simulations_url = url * \"/api/simulations/\" * string(post_simulations_content[\"id\"])"
   ]
  },
  {
   "cell_type": "code",
   "execution_count": null,
   "id": "ed39fd11-a306-4bb4-8e54-f5920074229b",
   "metadata": {},
   "outputs": [],
   "source": [
    "check_simulations_response = HTTP.get(check_simulations_url, headers)"
   ]
  },
  {
   "cell_type": "code",
   "execution_count": null,
   "id": "d1c681ed-4921-4dc5-ae15-f13b49aba777",
   "metadata": {},
   "outputs": [],
   "source": [
    "HTTP.status(check_simulations_response)"
   ]
  },
  {
   "cell_type": "code",
   "execution_count": null,
   "id": "c0d4bbab-08e1-4d64-90b9-c2e4619cd81b",
   "metadata": {},
   "outputs": [],
   "source": [
    "check_simulations_content = JSON.parse(String(HTTP.body(check_simulations_response)))"
   ]
  },
  {
   "cell_type": "code",
   "execution_count": null,
   "id": "d5cd9541-1af0-4e79-af88-a51351eb2c3d",
   "metadata": {},
   "outputs": [],
   "source": [
    "check_simulations_content[\"model_runs\"]"
   ]
  },
  {
   "cell_type": "markdown",
   "id": "5d355b5b-407a-4c29-a61e-69ff4a14911b",
   "metadata": {},
   "source": [
    "## Export simulation output"
   ]
  },
  {
   "cell_type": "code",
   "execution_count": null,
   "id": "eaefe239-e577-4b25-bba4-a79cb6ede8f9",
   "metadata": {},
   "outputs": [],
   "source": [
    "export_simulations_params = OrderedDict(\n",
    "    \"model\" => inputJSON[\"model_slug\"],\n",
    "    \"format\" => \"results\"\n",
    ")"
   ]
  },
  {
   "cell_type": "code",
   "execution_count": null,
   "id": "f97aafa7-f278-4068-905c-d9718b4e0bbc",
   "metadata": {},
   "outputs": [],
   "source": [
    "export_simulations_url =  url * \"/api/simulations/\" *  string(post_simulations_content[\"id\"]) * \"/export\"\n",
    "export_simulations_url"
   ]
  },
  {
   "cell_type": "code",
   "execution_count": null,
   "id": "bac7fe5b-eb5b-4742-8cc8-03647ea6dbfc",
   "metadata": {},
   "outputs": [],
   "source": [
    "tm = 0\n",
    "export_simulations_response = nothing\n",
    "while tm <= timeout\n",
    "    export_simulations_response = HTTP.get(export_simulations_url, headers, query = export_simulations_params, status_exception = false)\n",
    "    if HTTP.status(export_simulations_response)==200\n",
    "        break\n",
    "    end\n",
    "    sleep(stp)\n",
    "    tm += stp\n",
    "end"
   ]
  },
  {
   "cell_type": "code",
   "execution_count": null,
   "id": "4b2dfaf7-bd63-4b07-80bc-4c7702275054",
   "metadata": {},
   "outputs": [],
   "source": [
    "check_simulations_content = JSON.parse(String(HTTP.body(export_simulations_response)))"
   ]
  }
 ],
 "metadata": {
  "kernelspec": {
   "display_name": "Julia 1.7.3",
   "language": "julia",
   "name": "julia-1.7"
  },
  "language_info": {
   "file_extension": ".jl",
   "mimetype": "application/julia",
   "name": "julia",
   "version": "1.7.3"
  }
 },
 "nbformat": 4,
 "nbformat_minor": 5
}
